{
 "cells": [
  {
   "cell_type": "markdown",
   "metadata": {},
   "source": [
    "Cross Matching with EPIC\n",
    "==============\n",
    "\n",
    "Given a list of K2 sources it is important to be able to match consistently against the Ecliptic Plane Input Catalog (EPIC). Good cross matching ensures that each target has a unique identifier and reductions from different teams can be compared. \n",
    "\n",
    "To find the best cross matches we must do the following.\n",
    "\n",
    "* Cross match each target against Ecliptic Plane Input Catalog (EPIC) to find the nearest neighbors, up to some depth\n",
    "* Find a probabilistic way of determining the best, unique match for every target\n",
    "* Decide what probability threshold to set to determine which are matches are acceptable.\n",
    "\n",
    "The EPIC catalog can be downloaded from MAST [here](https://archive.stsci.edu/missions/k2/catalogs/). (In this case I have downloaded the catalog and reduced it to only cover Campaign 2 to slightly improve speed.) Using astropy's crossmatching functions it is easy to find the nearest neighbors. The function below will match the EPIC against the input catalog up a number of nearest neighbors specified by 'depth'."
   ]
  },
  {
   "cell_type": "code",
   "execution_count": null,
   "metadata": {
    "collapsed": false,
    "scrolled": true
   },
   "outputs": [],
   "source": [
    "import xmatch\n",
    "xmatch.match('C02_master_merged.fits',depth=5)"
   ]
  },
  {
   "cell_type": "markdown",
   "metadata": {},
   "source": [
    "There are two pieces of information which would help us with the cross matching. \n",
    "\n",
    " * **dist**: The distance to the best matching source in EPIC\n",
    " * **magnitude**: The magnitude of the source\n",
    "\n",
    "Lower magnitude sources should in general have slightly more uncertainty in the cross match radius. By creating a probability that takes magnitude into account we can be more tolerant of slightly poorer matches for faint sources. This is particularly important in K2 C02 where there are many reddened sources which are more uncertain in EPIC.\n",
    "\n",
    "To find good matches we have to find the most probable match out of the 5 nearest targets, based on distance and magnitude. To do this we have to find some way of assigning a probability to each target.\n",
    "\n",
    "We can do this by modeling the two different distributions of **magnitude** and **distance**. This distribution is shown below. We can model it with a simple 2D Gaussian (shown in red). Assuming that most of the sources have fairly good matches to the EPIC, we can use this distribution to give us a probability of a match.\n",
    "\n",
    "We have two flat priors. \n",
    "* While there are fewer targets with very short cross match distances, this is due to low numbers of objects. Sources with a very short cross match radius should have a high probability.\n",
    "* While there are fewer bright targets, this is also mostly due to low number statistics. Bright targets do have slightly larger cross match radii, due to saturation in EPIC.\n",
    "\n",
    "Including these flat priors we find the orange distribution for targets.\n"
   ]
  },
  {
   "cell_type": "markdown",
   "metadata": {},
   "source": [
    "<img src=images/gri_model.png style=\"width: 500px;\">"
   ]
  },
  {
   "cell_type": "markdown",
   "metadata": {},
   "source": [
    "Now for any give **distance** and **magnitude** we can have a relative probability. Comparison of this probability should tell us which target is the best match out of the 5.\n",
    "\n",
    "The probability of all 5 of the nearest neighbors for all targets are shown below. The thresholds have been chosen to classify sources as 'matches' (yellow) , 'soft matches' and 'missing' (purple). The soft matches are where the source is particularly faint or far."
   ]
  },
  {
   "cell_type": "markdown",
   "metadata": {},
   "source": [
    "<img src=images/prob.png style=\"width: 500px;\">\n"
   ]
  },
  {
   "cell_type": "markdown",
   "metadata": {},
   "source": [
    "Out of the 5 possible matches we now pick the match that is the most likely. In all but a handful of cases this is the nearest neighbor. We then look for any duplicates, find which of the set of duplicates has the highest probability and reassign the rest. (This is iterative until all targets have been assigned the most likely, unique match.)\n",
    "\n",
    "We can highlight targets that are crowded by finding targets with sources in EPIC within a few Kepler pixels. \n",
    "\n",
    "We can then look for blends, where the target in the input catalog is between two sources in EPIC. These are not truly bad matches but ones where the one or both of the catalogs are probably inaccurate. Examples crowded and blended targets are below."
   ]
  },
  {
   "cell_type": "markdown",
   "metadata": {},
   "source": [
    "<table>\n",
    "<tr>\n",
    "<td><img src=images/blended_example.png style=\"width: 500px;\"></td>\n",
    "<td><img src=images/crowded_example.png style=\"width: 500px;\"></td>\n",
    "</tr>\n",
    "</table>"
   ]
  },
  {
   "cell_type": "markdown",
   "metadata": {},
   "source": [
    "The benefit of this method is being able to choose a probability threshold to cut between 'good' and 'bad' matches, rather than distance. (These thresholds are chosen by eye based on star maps like the one above.) Running this matching routine we find \n",
    "\n",
    "* 16364 matched sources ( 90.81 %)\n",
    "* 1596 soft matches (508  of which are blended sources)\n",
    "* 306 missing sources\n",
    "* 5981 crowded sources\n",
    "\n",
    "\n",
    "All hard and soft matches have the best match EPIC ID. However for the soft matches, particularly the blends it would be worth checking the match more closely. Missing sources have no matching EPIC ID and require a new ID."
   ]
  },
  {
   "cell_type": "markdown",
   "metadata": {},
   "source": [
    "<img src=images/distprob.png style=\"width: 500px;\">"
   ]
  },
  {
   "cell_type": "markdown",
   "metadata": {},
   "source": [
    "As shown above, a similar result could be found by having a cut in cross match radius. The addition of magnitude information adds little. A distance cut would make a very similar catalog."
   ]
  },
  {
   "cell_type": "code",
   "execution_count": null,
   "metadata": {
    "collapsed": true
   },
   "outputs": [],
   "source": [
    "import pandas as pd\n",
    "import numpy as np\n",
    "import matplotlib.pyplot as plt\n",
    "%matplotlib inline\n",
    "results=pd.read_pickle('results_probabilities.p')"
   ]
  },
  {
   "cell_type": "code",
   "execution_count": 48,
   "metadata": {
    "collapsed": false
   },
   "outputs": [
    {
     "data": {
      "image/png": "[encoded data removed]",
      "text/plain": [
       "<matplotlib.figure.Figure at 0x11ab4fcd0>"
      ]
     },
     "metadata": {},
     "output_type": "display_data"
    }
   ],
   "source": [
    "fig,ax=plt.subplots(1,2,figsize=(15,4))\n",
    "_=ax[0].hist(results.InputMag[results.xmatch==1],40,color='C2',label='Matches')\n",
    "_=ax[0].hist(results.InputMag[results.xmatch==0.5],40,color='C1',label='Soft Matches and blends')\n",
    "_=ax[0].hist(results.InputMag[results.xmatch==0],40,color='C3',label='Missing Sources')\n",
    "ax[0].legend()\n",
    "ax[0].set_xlabel('Magntiude')\n",
    "ax[0].set_ylabel('Frequency')\n",
    "ax[0].set_yscale('log')\n",
    "\n",
    "h=ax[1].hist(np.log10(results.EPICd2d[results.xmatch==1]),bins=np.linspace(-3,2,100),color='C2',label='Matches')\n",
    "_=ax[1].hist(np.log10(results.EPICd2d[results.xmatch==0.5]),h[1],color='C1',label='Soft Matches and blends')\n",
    "_=ax[1].hist(np.log10(results.EPICd2d[results.xmatch==0]),h[1],color='C3',label='Missing Sources')\n",
    "ax[1].legend()\n",
    "ax[1].set_xlabel('log10(Distance)')\n",
    "ax[1].set_ylabel('Frequency')\n",
    "ax[1].set_yscale('log')"
   ]
  },
  {
   "cell_type": "markdown",
   "metadata": {},
   "source": [
    "Using dmagnitude instead of magnitude\n",
    "--------------------------------------\n",
    "It is possible to use the change in magnitude instead of the magnitude of the source. Similarly this adds little to the cross match ability. There is one benefit that sources that have very different magnitudes than those in EPIC (variables and young stars) are more easily flagged. \n",
    "\n",
    "Using KEPFLAG keyword\n",
    "---------------------\n",
    "It is possible to use the KEPFLAG keyword to find two distributions. KEPFLAG gives what photometric band was used to add that source to the EPIC. The flag can have values of *gri, J, JHK* or *BV*. *gri* matches have better magnitude and distance estimates than others. It is possible to create two distributions, one for *gri* targets and one for non *gri* targets. All sources can then be compared. However, this causes a large number of sources to be misclassified where it is more likely that a faint, distant , non *gri* source is a better match than a close *gri* source. Adding the KEPFLAG keyword does not significantly improve the cross match."
   ]
  },
  {
   "cell_type": "markdown",
   "metadata": {
    "collapsed": true
   },
   "source": [
    "Running\n",
    "-------\n",
    "\n",
    "The above script can be run with the same thresholds using the following call"
   ]
  },
  {
   "cell_type": "code",
   "execution_count": null,
   "metadata": {
    "collapsed": false
   },
   "outputs": [],
   "source": [
    "xmatch.fit()"
   ]
  }
 ],
 "metadata": {
  "kernelspec": {
   "display_name": "Python 2",
   "language": "python",
   "name": "python2"
  },
  "language_info": {
   "codemirror_mode": {
    "name": "ipython",
    "version": 2
   },
   "file_extension": ".py",
   "mimetype": "text/x-python",
   "name": "python",
   "nbconvert_exporter": "python",
   "pygments_lexer": "ipython2",
   "version": "2.7.11"
  }
 },
 "nbformat": 4,
 "nbformat_minor": 2
}
