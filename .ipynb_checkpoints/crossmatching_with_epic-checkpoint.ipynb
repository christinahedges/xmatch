{
 "cells": [
  {
   "cell_type": "markdown",
   "metadata": {},
   "source": [
    "Cross Matching EPIC Using Magnitudes\n",
    "-------------------------------------\n",
    "\n",
    "This notebook shows a way to crossmatch a catalogue of sources against EPIC using magnitudes. This is a multiple step stage of finding\n",
    "\n",
    "* **positive** cross matches (where the nearest source has reasonably consistent magnitude) then finding \n",
    "* **uncertain** cross matches (where there is a nearby source that has reasonably consistent magnitude)\n",
    "* **negative** cross matches (where there are no nearby sources that have consistent magnitudes).\n",
    "\n",
    "To find negative cross matches a threshold must be input by the user, beyond which no source is considered near or close enough in magnitude. \n",
    "\n",
    "There are a few reasons why the EPIC catalogue may not have a match. \n",
    "\n",
    "* The catalogue is incomplete, and so no source can be found\n",
    "* The catalogue is built on magnitudes from multiple surveys, including with JHK photometry. This is not comprable to Kp mag in some cases."
   ]
  },
  {
   "cell_type": "code",
   "execution_count": 1,
   "metadata": {
    "collapsed": true
   },
   "outputs": [],
   "source": [
    "from astropy.io import fits\n",
    "import pandas as pd\n",
    "import matplotlib.pyplot as plt\n",
    "import numpy as np\n",
    "import astropy.units as u\n",
    "from astropy.coordinates import SkyCoord\n",
    "%matplotlib inline"
   ]
  },
  {
   "cell_type": "code",
   "execution_count": 2,
   "metadata": {
    "collapsed": true
   },
   "outputs": [],
   "source": [
    "hard_distance_threshold=5*u.arcsecond\n",
    "hard_magnitude_threshold=5\n",
    "distance_threshold=2*u.arcsecond\n",
    "magnitude_threshold=1."
   ]
  },
  {
   "cell_type": "markdown",
   "metadata": {},
   "source": [
    "This catalogue (from K2SC) contains a list of sources with RAs, Decs and fluxes. (We'll create a Kp magnitude for each of them and zeropoint it against the EPIC catalogue.)"
   ]
  },
  {
   "cell_type": "code",
   "execution_count": 3,
   "metadata": {
    "collapsed": true
   },
   "outputs": [],
   "source": [
    "h=fits.open('C02_master_merged.fits')\n",
    "mag=25-2.5*np.log10(h[1].data['Total_flux'])\n",
    "RA,Dec=h[1].data['RA']*u.radian,h[1].data['DEC']*u.radian\n",
    "RA,Dec=RA.to(u.deg),Dec.to(u.deg)\n",
    "\n",
    "#Ensure all targets are unique\n",
    "unq=np.unique(RA*Dec,return_index=True)[1]\n",
    "RA,Dec,mag=RA[unq],Dec[unq],mag[unq]"
   ]
  },
  {
   "cell_type": "markdown",
   "metadata": {},
   "source": [
    "We'll read in the whole EPIC catalog into memory. This is a large catalogue and there's potentially a quicker way to do this. We'll trim down to just C2 so that we don't have to search the whole catalog."
   ]
  },
  {
   "cell_type": "code",
   "execution_count": null,
   "metadata": {
    "collapsed": false
   },
   "outputs": [],
   "source": [
    "import pickle\n",
    "targlist=pickle.load(open('xmatch.p','rb'))"
   ]
  },
  {
   "cell_type": "markdown",
   "metadata": {},
   "source": [
    "As a first pass we find the **nearest** RAs and Decs of the sources to those in the EPIC catalogue."
   ]
  },
  {
   "cell_type": "code",
   "execution_count": null,
   "metadata": {
    "collapsed": false
   },
   "outputs": [],
   "source": [
    "EPICcatalog=SkyCoord(targlist.k2_ra*u.deg,targlist.k2_dec*u.deg)"
   ]
  },
  {
   "cell_type": "code",
   "execution_count": null,
   "metadata": {
    "collapsed": true
   },
   "outputs": [],
   "source": [
    "INPUTcatalog = SkyCoord(ra=RA, dec=Dec)"
   ]
  },
  {
   "cell_type": "code",
   "execution_count": null,
   "metadata": {
    "collapsed": false
   },
   "outputs": [],
   "source": [
    "n=1\n",
    "\n",
    "idx, d2d, d3d = INPUTcatalog.match_to_catalog_sky(EPICcatalog,nthneighbor=n)  \n",
    "gri=np.where(np.asarray(targlist.kepflag)[idx]=='gri')[0]\n",
    "if n==1:\n",
    "    zeropoint=np.median(np.asarray(targlist.kp)[idx][gri]-mag[gri])\n",
    "#Plot\n",
    "#------------------------#\n",
    "plt.figure()\n",
    "plt.scatter(d2d.to(u.arcsec),np.abs(np.asarray(targlist.kp)[idx]-(mag+zeropoint)),s=0.01)\n",
    "plt.yscale('log')\n",
    "plt.xscale('log')\n",
    "plt.ylim(0.0001,100)\n",
    "plt.xlim(0.01,1000)\n",
    "plt.xlabel('Distance to Nearest Source (arcseconds)')\n",
    "plt.ylabel('Magnitude Difference')\n",
    "plt.fill_between([distance_threshold.value,1E3],1E-4,1E2,color='C3',alpha=0.3,label='Negative Matches')\n",
    "plt.fill_between([1E-2,distance_threshold.value],1E-4,magnitude_threshold,color='C2',alpha=0.3,label='Positive Matches')\n",
    "plt.fill_between([1E-2,distance_threshold.value],magnitude_threshold,1E2,color='C1',alpha=0.3,label='Uncertain Matches')\n",
    "plt.legend()\n",
    "#------------------------#\n"
   ]
  },
  {
   "cell_type": "code",
   "execution_count": null,
   "metadata": {
    "collapsed": false
   },
   "outputs": [],
   "source": [
    "fig,ax=plt.subplots()\n",
    "_=ax.hist(np.log10(d2d.to(u.arcsec).value),200)\n",
    "plt.yscale('log')\n",
    "plt.ylabel('Frequency')\n",
    "plt.xlabel('log10(Separation) (arcseconds)')\n",
    "plt.title('Cross Match Separation with EPIC')\n",
    "plt.savefig('images/crossmatch.png',dpi=150,bbox_inches='tight')"
   ]
  },
  {
   "cell_type": "code",
   "execution_count": null,
   "metadata": {
    "collapsed": false
   },
   "outputs": [],
   "source": [
    "results=pd.DataFrame(columns=['RA','Dec','InputMag',\n",
    "                              'EPICKpMag_1','EPICd2d_1','MatchID_1','KepFlag_1',\n",
    "                              'EPICKpMag_2','EPICd2d_2','MatchID_2','KepFlag_2',\n",
    "                              'EPICKpMag_3','EPICd2d_3','MatchID_3','KepFlag_3',\n",
    "                              'EPICKpMag_4','EPICd2d_4','MatchID_4','KepFlag_4',\n",
    "                              'EPICKpMag_5','EPICd2d_5','MatchID_5','KepFlag_5',\n",
    "                              'EPICKpMag_6','EPICd2d_6','MatchID_6','KepFlag_6',\n",
    "                             'Nth_Neighbour','Xflag','EPICID','KpMag'])\n",
    "results['RA']=RA\n",
    "results['Dec']=Dec\n",
    "results['InputMag']=mag\n",
    "results['Nth_Neighbour']=0\n",
    "results['Xflag']=-1"
   ]
  },
  {
   "cell_type": "code",
   "execution_count": null,
   "metadata": {
    "collapsed": false
   },
   "outputs": [],
   "source": [
    "for n in np.arange(6)+1:\n",
    "    idx, d2d, d3d = INPUTcatalog.match_to_catalog_sky(EPICcatalog,nthneighbor=n)  \n",
    "    gri=np.where(np.asarray(targlist.kepflag)[idx]=='gri')[0]\n",
    "    if n==1:\n",
    "        zeropoint=np.median(np.asarray(targlist.kp)[idx][gri]-mag[gri])\n",
    "\n",
    "    nkeys=results.keys()[4*n-1:3+4*n]\n",
    "    ar=np.transpose([targlist.kp[idx]-(mag+zeropoint),d2d.to(u.arcsecond).value,targlist.id[idx],targlist.kepflag[idx]])\n",
    "    out=ar[:,1]>=hard_distance_threshold.value\n",
    "    ar[out,:]=np.nan\n",
    "    results[nkeys]=ar\n",
    "    "
   ]
  },
  {
   "cell_type": "code",
   "execution_count": null,
   "metadata": {
    "collapsed": false
   },
   "outputs": [],
   "source": [
    "results.loc[np.where(np.isfinite(results['EPICd2d_1'])==False)[0],'Xflag']=0\n",
    "\n",
    "\n",
    "pos=np.where((results['EPICd2d_1']<=distance_threshold)&(np.abs(results['EPICKpMag_1'])<=magnitude_threshold))[0]\n",
    "results.loc[pos,'Xflag']=2\n",
    "results.loc[pos,'Nth_Neighbour']=1\n",
    "\n"
   ]
  },
  {
   "cell_type": "code",
   "execution_count": null,
   "metadata": {
    "collapsed": false
   },
   "outputs": [],
   "source": [
    "plt.plot(np.sort(results.EPICd2d_1*results.EPICKpMag_1))\n",
    "pos=(results.Xflag==2)\n",
    "x1=np.min(results.EPICd2d_1[pos]*results.EPICKpMag_1[pos])\n",
    "x2=np.max(results.EPICd2d_1[pos]*results.EPICKpMag_1[pos])\n",
    "\n",
    "plt.axhline(x1)\n",
    "plt.axhline(x2)"
   ]
  },
  {
   "cell_type": "code",
   "execution_count": null,
   "metadata": {
    "collapsed": false
   },
   "outputs": [],
   "source": [
    "met=np.transpose([results.EPICd2d_1*results.EPICKpMag_1,\n",
    "     results.EPICd2d_2*results.EPICKpMag_2,\n",
    "     results.EPICd2d_3*results.EPICKpMag_3,\n",
    "     results.EPICd2d_4*results.EPICKpMag_4,\n",
    "     results.EPICd2d_5*results.EPICKpMag_5,\n",
    "     results.EPICd2d_6*results.EPICKpMag_6])"
   ]
  },
  {
   "cell_type": "code",
   "execution_count": null,
   "metadata": {
    "collapsed": false
   },
   "outputs": [],
   "source": [
    "for i,m,f in zip(xrange(len(results)),met,results.Xflag):\n",
    "    if f!=-1:\n",
    "        continue\n",
    "    x=np.arange(len(m))\n",
    "    x=x[np.where(np.isfinite(m))]\n",
    "    x=np.argmin(m[x])\n",
    "    if (m[x]>=x1)&(m[x]<=x2):\n",
    "        results.loc[i,'Nth_Neighbour']=x+1\n",
    "        results.loc[i,'Xflag']=1\n",
    "    else:\n",
    "        results.loc[i,'Nth_Neighbour']=x+1\n",
    "        results.loc[i,'Xflag']=0\n",
    "    "
   ]
  },
  {
   "cell_type": "code",
   "execution_count": null,
   "metadata": {
    "collapsed": false
   },
   "outputs": [],
   "source": [
    "for i,n,f in zip(xrange(len(results)),results.Nth_Neighbour,results.Xflag):\n",
    "    if f!=0:\n",
    "        continue\n",
    "    if results.loc[i]['Nth_Neighbour'.format(n)]==0:\n",
    "        continue\n",
    "    if results.loc[i]['KepFlag_{}'.format(n)]=='gri':\n",
    "        continue\n",
    "    if (results.loc[i]['EPICKpMag_{}'.format(n)]<=hard_magnitude_threshold) and (results.loc[i]['EPICd2d_{}'.format(n)]<=distance_threshold.value:\n",
    "        print i,"
   ]
  },
  {
   "cell_type": "code",
   "execution_count": null,
   "metadata": {
    "collapsed": false
   },
   "outputs": [],
   "source": [
    "for f in np.unique(results.Xflag):\n",
    "    print f,len(results[results.Xflag==f])"
   ]
  },
  {
   "cell_type": "code",
   "execution_count": 59,
   "metadata": {
    "collapsed": false
   },
   "outputs": [
    {
     "data": {
      "image/png": "[encoded data removed]",
      "text/plain": [
       "<matplotlib.figure.Figure at 0x123481190>"
      ]
     },
     "metadata": {},
     "output_type": "display_data"
    }
   ],
   "source": [
    "plt.scatter(results.EPICd2d_1,np.abs(results.EPICKpMag_1),s=0.1)\n",
    "plt.scatter(results.EPICd2d_1[results.Xflag==2],np.abs(results.EPICKpMag_1[results.Xflag==2]),s=0.1)\n",
    "plt.scatter(results.EPICd2d_1[results.Xflag==1],np.abs(results.EPICKpMag_1[results.Xflag==1]),s=4)\n",
    "\n",
    "\n",
    "plt.xscale('log')"
   ]
  },
  {
   "cell_type": "code",
   "execution_count": 60,
   "metadata": {
    "collapsed": false
   },
   "outputs": [
    {
     "data": {
      "text/plain": [
       "<matplotlib.text.Text at 0x12e316b50>"
      ]
     },
     "execution_count": 60,
     "metadata": {},
     "output_type": "execute_result"
    },
    {
     "data": {
      "image/png": "[encoded data removed]",
      "text/plain": [
       "<matplotlib.figure.Figure at 0x14dfe3dd0>"
      ]
     },
     "metadata": {},
     "output_type": "display_data"
    }
   ],
   "source": [
    "_=plt.hist(results.Nth_Neighbour,[1,2,3,4,5])\n",
    "plt.title('Nearest Neighbour')\n",
    "plt.ylabel('Frequency')\n",
    "plt.xlabel('Nearest Neighbour')"
   ]
  },
  {
   "cell_type": "code",
   "execution_count": null,
   "metadata": {
    "collapsed": false
   },
   "outputs": [],
   "source": []
  },
  {
   "cell_type": "raw",
   "metadata": {},
   "source": []
  },
  {
   "cell_type": "code",
   "execution_count": null,
   "metadata": {
    "collapsed": true
   },
   "outputs": [],
   "source": []
  }
 ],
 "metadata": {
  "kernelspec": {
   "display_name": "Python 2",
   "language": "python",
   "name": "python2"
  },
  "language_info": {
   "codemirror_mode": {
    "name": "ipython",
    "version": 2
   },
   "file_extension": ".py",
   "mimetype": "text/x-python",
   "name": "python",
   "nbconvert_exporter": "python",
   "pygments_lexer": "ipython2",
   "version": "2.7.11"
  }
 },
 "nbformat": 4,
 "nbformat_minor": 2
}
